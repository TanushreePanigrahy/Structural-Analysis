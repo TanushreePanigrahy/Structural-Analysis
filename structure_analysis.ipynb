from ase.build import bulk
from ase.io import write, read
import nglview as nv
from pymatgen.core import Structure
from ase.data import atomic_masses
# FCC - Aluminum
al = bulk('Al', 'fcc', a=4.05)
write('Al_fcc.cif', al)

# BCC - Iron
fe = bulk('Fe', 'bcc', a=2.86)
write('Fe_bcc.cif', fe)

# HCP - Magnesium
mg = bulk('Mg', 'hcp', a=3.21, c=5.21)
write('Mg_hcp.cif', mg)
# Visualize Aluminum
al_structure = read('Al_fcc.cif')
nv.show_ase(al_structure)
fe_structure = read('Fe_bcc.cif')
nv.show_ase(fe_structure)

mg_structure = read('Mg_hcp.cif')
nv.show_ase(mg_structure)
# Aluminum lattice and coordination
al_pmg = Structure.from_file('Al_fcc.cif')
print("Lattice (Al):", al_pmg.lattice)
neighbors = al_pmg.get_neighbors(al_pmg[0], 3.0)
print("Coordination Number (Al):", len(neighbors))

# Calculate for FCC-Al
al_mass = atomic_masses[13]  # Al atomic mass in amu
al_volume = al.get_volume() # volume in angstrom cubic.
al_density = al_mass * 1.66054 * len(al) / (al_volume)  # g/cm³
print("Theoretical Density of Al:", round(al_density, 2), "g/cm³")

# Calculate for BCC-Fe
fe_pmg = Structure.from_file('Fe_bcc.cif')
fe_mass = atomic_masses[26]
fe_volume = fe.get_volume()
fe_density = fe_mass * 1.66054 * len(fe) / (fe_volume)
print("Theoretical Density of Fe:", round(fe_density, 2), "g/cm³")

#Calculating for HCP-Mg
mg_pmg = Structure.from_file('Mg_hcp.cif')
mg_mass = atomic_masses[12]
mg_volume = mg.get_volume()
mg_density = mg_mass * 1.66054 * len(mg) / (mg_volume)
print("Theoretical Density of Mg:", round(mg_density, 2), "g/cm³")